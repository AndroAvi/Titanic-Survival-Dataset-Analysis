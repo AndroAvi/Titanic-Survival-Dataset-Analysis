{
 "cells": [
  {
   "cell_type": "markdown",
   "metadata": {},
   "source": [
    "<h1 style = \"padding: 20px; text-align: center;\">Exploring the Titanic Survival Dataset.</h1>\n",
    "\n",
    "We'll start off by loading the required base libraries for the project. These are the only ones we need to manipulate and visualize our data."
   ]
  },
  {
   "cell_type": "code",
   "execution_count": 1,
   "metadata": {},
   "outputs": [],
   "source": [
    "#libraries required for data wrangling.\n",
    "import numpy as np\n",
    "import pandas as pd\n",
    "\n",
    "#libraries required for visual feature analysis.\n",
    "import matplotlib.pyplot as plt\n",
    "import seaborn as sns\n",
    "%matplotlib inline"
   ]
  },
  {
   "cell_type": "markdown",
   "metadata": {},
   "source": [
    "# Loading and Viewing the Training and Test Data.\n",
    "Enter the path to the folder containing the .csv files in the `path` variable and replace the file's name with your local copy's in order to load the file.\n",
    "\n",
    "\n",
    "We then print out the head of our training dataset to take a look at what we've got."
   ]
  },
  {
   "cell_type": "code",
   "execution_count": 2,
   "metadata": {
    "scrolled": true
   },
   "outputs": [],
   "source": [
    "path = 'C:/Users/LENOVO/titanic_project/'\n",
    "\n",
    "train_df = pd.read_csv(path + 'titanic_train.csv')\n",
    "test_df = pd.read_csv(path + 'titanic_test.csv')"
   ]
  },
  {
   "cell_type": "code",
   "execution_count": 3,
   "metadata": {},
   "outputs": [
    {
     "name": "stdout",
     "output_type": "stream",
     "text": [
      "Column names: ['PassengerId' 'Survived' 'Pclass' 'Name' 'Sex' 'Age' 'SibSp' 'Parch'\n",
      " 'Ticket' 'Fare' 'Cabin' 'Embarked']\n"
     ]
    },
    {
     "data": {
      "text/html": [
       "<div>\n",
       "<style scoped>\n",
       "    .dataframe tbody tr th:only-of-type {\n",
       "        vertical-align: middle;\n",
       "    }\n",
       "\n",
       "    .dataframe tbody tr th {\n",
       "        vertical-align: top;\n",
       "    }\n",
       "\n",
       "    .dataframe thead th {\n",
       "        text-align: right;\n",
       "    }\n",
       "</style>\n",
       "<table border=\"1\" class=\"dataframe\">\n",
       "  <thead>\n",
       "    <tr style=\"text-align: right;\">\n",
       "      <th></th>\n",
       "      <th>PassengerId</th>\n",
       "      <th>Survived</th>\n",
       "      <th>Pclass</th>\n",
       "      <th>Name</th>\n",
       "      <th>Sex</th>\n",
       "      <th>Age</th>\n",
       "      <th>SibSp</th>\n",
       "      <th>Parch</th>\n",
       "      <th>Ticket</th>\n",
       "      <th>Fare</th>\n",
       "      <th>Cabin</th>\n",
       "      <th>Embarked</th>\n",
       "    </tr>\n",
       "  </thead>\n",
       "  <tbody>\n",
       "    <tr>\n",
       "      <th>0</th>\n",
       "      <td>1</td>\n",
       "      <td>0</td>\n",
       "      <td>3</td>\n",
       "      <td>Braund, Mr. Owen Harris</td>\n",
       "      <td>male</td>\n",
       "      <td>22.0</td>\n",
       "      <td>1</td>\n",
       "      <td>0</td>\n",
       "      <td>A/5 21171</td>\n",
       "      <td>7.2500</td>\n",
       "      <td>NaN</td>\n",
       "      <td>S</td>\n",
       "    </tr>\n",
       "    <tr>\n",
       "      <th>1</th>\n",
       "      <td>2</td>\n",
       "      <td>1</td>\n",
       "      <td>1</td>\n",
       "      <td>Cumings, Mrs. John Bradley (Florence Briggs Th...</td>\n",
       "      <td>female</td>\n",
       "      <td>38.0</td>\n",
       "      <td>1</td>\n",
       "      <td>0</td>\n",
       "      <td>PC 17599</td>\n",
       "      <td>71.2833</td>\n",
       "      <td>C85</td>\n",
       "      <td>C</td>\n",
       "    </tr>\n",
       "    <tr>\n",
       "      <th>2</th>\n",
       "      <td>3</td>\n",
       "      <td>1</td>\n",
       "      <td>3</td>\n",
       "      <td>Heikkinen, Miss. Laina</td>\n",
       "      <td>female</td>\n",
       "      <td>26.0</td>\n",
       "      <td>0</td>\n",
       "      <td>0</td>\n",
       "      <td>STON/O2. 3101282</td>\n",
       "      <td>7.9250</td>\n",
       "      <td>NaN</td>\n",
       "      <td>S</td>\n",
       "    </tr>\n",
       "    <tr>\n",
       "      <th>3</th>\n",
       "      <td>4</td>\n",
       "      <td>1</td>\n",
       "      <td>1</td>\n",
       "      <td>Futrelle, Mrs. Jacques Heath (Lily May Peel)</td>\n",
       "      <td>female</td>\n",
       "      <td>35.0</td>\n",
       "      <td>1</td>\n",
       "      <td>0</td>\n",
       "      <td>113803</td>\n",
       "      <td>53.1000</td>\n",
       "      <td>C123</td>\n",
       "      <td>S</td>\n",
       "    </tr>\n",
       "    <tr>\n",
       "      <th>4</th>\n",
       "      <td>5</td>\n",
       "      <td>0</td>\n",
       "      <td>3</td>\n",
       "      <td>Allen, Mr. William Henry</td>\n",
       "      <td>male</td>\n",
       "      <td>35.0</td>\n",
       "      <td>0</td>\n",
       "      <td>0</td>\n",
       "      <td>373450</td>\n",
       "      <td>8.0500</td>\n",
       "      <td>NaN</td>\n",
       "      <td>S</td>\n",
       "    </tr>\n",
       "  </tbody>\n",
       "</table>\n",
       "</div>"
      ],
      "text/plain": [
       "   PassengerId  Survived  Pclass  \\\n",
       "0            1         0       3   \n",
       "1            2         1       1   \n",
       "2            3         1       3   \n",
       "3            4         1       1   \n",
       "4            5         0       3   \n",
       "\n",
       "                                                Name     Sex   Age  SibSp  \\\n",
       "0                            Braund, Mr. Owen Harris    male  22.0      1   \n",
       "1  Cumings, Mrs. John Bradley (Florence Briggs Th...  female  38.0      1   \n",
       "2                             Heikkinen, Miss. Laina  female  26.0      0   \n",
       "3       Futrelle, Mrs. Jacques Heath (Lily May Peel)  female  35.0      1   \n",
       "4                           Allen, Mr. William Henry    male  35.0      0   \n",
       "\n",
       "   Parch            Ticket     Fare Cabin Embarked  \n",
       "0      0         A/5 21171   7.2500   NaN        S  \n",
       "1      0          PC 17599  71.2833   C85        C  \n",
       "2      0  STON/O2. 3101282   7.9250   NaN        S  \n",
       "3      0            113803  53.1000  C123        S  \n",
       "4      0            373450   8.0500   NaN        S  "
      ]
     },
     "execution_count": 3,
     "metadata": {},
     "output_type": "execute_result"
    }
   ],
   "source": [
    "print(\"Column names: {}\".format(train_df.columns.values))\n",
    "train_df.head()"
   ]
  },
  {
   "cell_type": "markdown",
   "metadata": {},
   "source": [
    "As we can see, we've the following 12 columns:\n",
    "*PassengerID : the unique id of the individual passengers\n",
    "* Survived: survival information, 0 indicates failure(death) while 1 indicates success(survival)\n",
    "* Pclass: The class in which the passengers were travelling.\n",
    "* Name: Name of the passengers.\n",
    "* Sex: Passengers' gender.\n",
    "* Age: Passengers' Age.\n",
    "* Parch: Number of parents/gaurdians abord the titanic for each passenger.\n",
    "* SibSB: Number of siblings aboard the titanic for each passenger.\n",
    "* Ticket: ticket number of each passenger.\n",
    "* Fare: Fare that each passenger paid for the voyage.\n",
    "* Cabin: Cabin number where each passenger stayed.\n",
    "* Embarked: The city from which each passenger embarked upon the titanic.\n",
    "\n",
    "\n",
    "\n",
    "The Survived Column is obviously our label i.e. this is what we have to predict, and it is thus missing from the test set.\n",
    "\n",
    "As for the other columns, categorizing them would help us better understand and decide upon the features.\n",
    "\n",
    "The following are the categories and the labels that fit in those categories:\n",
    "\n",
    "* Categorical: Sex and Embarked.\n",
    "* Ordinal: Pclass\n",
    "* Numerical: \n",
    "    * Continuous: Age and Fare\n",
    "    * Discreet: SibSp and Parch\n",
    "* Alphanumerical: Ticket\n",
    "\n",
    "NOTE: Both `Name` and `PassengerId` can be treated as unique identifiers for each passenger, and thus aren't independant variables that our outcome depends upon. Intuitively, it makes sense because calamity is not subjective."
   ]
  },
  {
   "cell_type": "markdown",
   "metadata": {},
   "source": [
    "\n",
    "\n",
    "<h1 style = \"padding : 20px; text-align: center;\">Looking for patterns</h1>\n",
    "\n",
    "\n",
    "\n",
    "Now that we understand what our training data consists of, the next step is finding patterns in the data, both good and bad. This will help us decide upon which features may contribute positively or negatively towards model optimization.\n",
    "\n",
    "    \n",
    "# 1. Null Values\n",
    "Let's start by taking a look at the amount of null values in the training data."
   ]
  },
  {
   "cell_type": "code",
   "execution_count": 4,
   "metadata": {},
   "outputs": [
    {
     "name": "stdout",
     "output_type": "stream",
     "text": [
      "Null values in training data:\n",
      "PassengerId      0\n",
      "Survived         0\n",
      "Pclass           0\n",
      "Name             0\n",
      "Sex              0\n",
      "Age            177\n",
      "SibSp            0\n",
      "Parch            0\n",
      "Ticket           0\n",
      "Fare             0\n",
      "Cabin          687\n",
      "Embarked         2\n",
      "dtype: int64\n",
      "\n",
      "Null values in test data:\n",
      "PassengerId      0\n",
      "Pclass           0\n",
      "Name             0\n",
      "Sex              0\n",
      "Age             86\n",
      "SibSp            0\n",
      "Parch            0\n",
      "Ticket           0\n",
      "Fare             1\n",
      "Cabin          327\n",
      "Embarked         0\n",
      "dtype: int64\n"
     ]
    }
   ],
   "source": [
    "print(\"Null values in training data:\\n{}\\n\\nNull values in test data:\\n{}\".format(train_df.isnull().sum(), test_df.isnull().sum()))"
   ]
  },
  {
   "cell_type": "markdown",
   "metadata": {},
   "source": [
    "Clearly enough, `Cabin` consits of the most `Nan` values followed by `Age` in case of both training and test data.\n",
    "\n",
    "Null values generally give machine learning models a very hard time and can lead to substantial reduction in any model's performance. So, we now know that we'll have to deal with these."
   ]
  },
  {
   "cell_type": "markdown",
   "metadata": {},
   "source": [
    "# 2. Numerical Values' Distribution."
   ]
  },
  {
   "cell_type": "code",
   "execution_count": 5,
   "metadata": {
    "scrolled": true
   },
   "outputs": [
    {
     "data": {
      "text/html": [
       "<div>\n",
       "<style scoped>\n",
       "    .dataframe tbody tr th:only-of-type {\n",
       "        vertical-align: middle;\n",
       "    }\n",
       "\n",
       "    .dataframe tbody tr th {\n",
       "        vertical-align: top;\n",
       "    }\n",
       "\n",
       "    .dataframe thead th {\n",
       "        text-align: right;\n",
       "    }\n",
       "</style>\n",
       "<table border=\"1\" class=\"dataframe\">\n",
       "  <thead>\n",
       "    <tr style=\"text-align: right;\">\n",
       "      <th></th>\n",
       "      <th>PassengerId</th>\n",
       "      <th>Survived</th>\n",
       "      <th>Pclass</th>\n",
       "      <th>Age</th>\n",
       "      <th>SibSp</th>\n",
       "      <th>Parch</th>\n",
       "      <th>Fare</th>\n",
       "    </tr>\n",
       "  </thead>\n",
       "  <tbody>\n",
       "    <tr>\n",
       "      <th>count</th>\n",
       "      <td>891.000000</td>\n",
       "      <td>891.000000</td>\n",
       "      <td>891.000000</td>\n",
       "      <td>714.000000</td>\n",
       "      <td>891.000000</td>\n",
       "      <td>891.000000</td>\n",
       "      <td>891.000000</td>\n",
       "    </tr>\n",
       "    <tr>\n",
       "      <th>mean</th>\n",
       "      <td>446.000000</td>\n",
       "      <td>0.383838</td>\n",
       "      <td>2.308642</td>\n",
       "      <td>29.699118</td>\n",
       "      <td>0.523008</td>\n",
       "      <td>0.381594</td>\n",
       "      <td>32.204208</td>\n",
       "    </tr>\n",
       "    <tr>\n",
       "      <th>std</th>\n",
       "      <td>257.353842</td>\n",
       "      <td>0.486592</td>\n",
       "      <td>0.836071</td>\n",
       "      <td>14.526497</td>\n",
       "      <td>1.102743</td>\n",
       "      <td>0.806057</td>\n",
       "      <td>49.693429</td>\n",
       "    </tr>\n",
       "    <tr>\n",
       "      <th>min</th>\n",
       "      <td>1.000000</td>\n",
       "      <td>0.000000</td>\n",
       "      <td>1.000000</td>\n",
       "      <td>0.420000</td>\n",
       "      <td>0.000000</td>\n",
       "      <td>0.000000</td>\n",
       "      <td>0.000000</td>\n",
       "    </tr>\n",
       "    <tr>\n",
       "      <th>25%</th>\n",
       "      <td>223.500000</td>\n",
       "      <td>0.000000</td>\n",
       "      <td>2.000000</td>\n",
       "      <td>20.125000</td>\n",
       "      <td>0.000000</td>\n",
       "      <td>0.000000</td>\n",
       "      <td>7.910400</td>\n",
       "    </tr>\n",
       "    <tr>\n",
       "      <th>50%</th>\n",
       "      <td>446.000000</td>\n",
       "      <td>0.000000</td>\n",
       "      <td>3.000000</td>\n",
       "      <td>28.000000</td>\n",
       "      <td>0.000000</td>\n",
       "      <td>0.000000</td>\n",
       "      <td>14.454200</td>\n",
       "    </tr>\n",
       "    <tr>\n",
       "      <th>75%</th>\n",
       "      <td>668.500000</td>\n",
       "      <td>1.000000</td>\n",
       "      <td>3.000000</td>\n",
       "      <td>38.000000</td>\n",
       "      <td>1.000000</td>\n",
       "      <td>0.000000</td>\n",
       "      <td>31.000000</td>\n",
       "    </tr>\n",
       "    <tr>\n",
       "      <th>max</th>\n",
       "      <td>891.000000</td>\n",
       "      <td>1.000000</td>\n",
       "      <td>3.000000</td>\n",
       "      <td>80.000000</td>\n",
       "      <td>8.000000</td>\n",
       "      <td>6.000000</td>\n",
       "      <td>512.329200</td>\n",
       "    </tr>\n",
       "  </tbody>\n",
       "</table>\n",
       "</div>"
      ],
      "text/plain": [
       "       PassengerId    Survived      Pclass         Age       SibSp  \\\n",
       "count   891.000000  891.000000  891.000000  714.000000  891.000000   \n",
       "mean    446.000000    0.383838    2.308642   29.699118    0.523008   \n",
       "std     257.353842    0.486592    0.836071   14.526497    1.102743   \n",
       "min       1.000000    0.000000    1.000000    0.420000    0.000000   \n",
       "25%     223.500000    0.000000    2.000000   20.125000    0.000000   \n",
       "50%     446.000000    0.000000    3.000000   28.000000    0.000000   \n",
       "75%     668.500000    1.000000    3.000000   38.000000    1.000000   \n",
       "max     891.000000    1.000000    3.000000   80.000000    8.000000   \n",
       "\n",
       "            Parch        Fare  \n",
       "count  891.000000  891.000000  \n",
       "mean     0.381594   32.204208  \n",
       "std      0.806057   49.693429  \n",
       "min      0.000000    0.000000  \n",
       "25%      0.000000    7.910400  \n",
       "50%      0.000000   14.454200  \n",
       "75%      0.000000   31.000000  \n",
       "max      6.000000  512.329200  "
      ]
     },
     "execution_count": 5,
     "metadata": {},
     "output_type": "execute_result"
    }
   ],
   "source": [
    "train_df.describe()"
   ]
  },
  {
   "cell_type": "markdown",
   "metadata": {},
   "source": [
    "In the above table, we can observe:\n",
    "* There are a total of 891 numerical values in each column of the dataset.\n",
    "* The survival rate among these 891 passengers is around 38%, in comparison to the factual 32% survival rate of the incident reports.\n",
    "* Nearly 30% of the passengers had siblings aboard.\n",
    "* Fare variation is low, with the exception of one person paying a relatively large amount of 512 dollars. This is an outlier.\n",
    "* The mean age of the passengers is 29 years with a standard deviation of 14. Nearly 75% of the passengers are under 38 years of age. A few outliers exist(above 80 years).\n",
    "* Most of the passengers(nearly 75%) did not travel with parents/gaurdians."
   ]
  },
  {
   "cell_type": "markdown",
   "metadata": {},
   "source": [
    "# 3. Categorical Values' Distribution"
   ]
  },
  {
   "cell_type": "code",
   "execution_count": 6,
   "metadata": {},
   "outputs": [
    {
     "data": {
      "text/html": [
       "<div>\n",
       "<style scoped>\n",
       "    .dataframe tbody tr th:only-of-type {\n",
       "        vertical-align: middle;\n",
       "    }\n",
       "\n",
       "    .dataframe tbody tr th {\n",
       "        vertical-align: top;\n",
       "    }\n",
       "\n",
       "    .dataframe thead th {\n",
       "        text-align: right;\n",
       "    }\n",
       "</style>\n",
       "<table border=\"1\" class=\"dataframe\">\n",
       "  <thead>\n",
       "    <tr style=\"text-align: right;\">\n",
       "      <th></th>\n",
       "      <th>Name</th>\n",
       "      <th>Sex</th>\n",
       "      <th>Ticket</th>\n",
       "      <th>Cabin</th>\n",
       "      <th>Embarked</th>\n",
       "    </tr>\n",
       "  </thead>\n",
       "  <tbody>\n",
       "    <tr>\n",
       "      <th>count</th>\n",
       "      <td>891</td>\n",
       "      <td>891</td>\n",
       "      <td>891</td>\n",
       "      <td>204</td>\n",
       "      <td>889</td>\n",
       "    </tr>\n",
       "    <tr>\n",
       "      <th>unique</th>\n",
       "      <td>891</td>\n",
       "      <td>2</td>\n",
       "      <td>681</td>\n",
       "      <td>147</td>\n",
       "      <td>3</td>\n",
       "    </tr>\n",
       "    <tr>\n",
       "      <th>top</th>\n",
       "      <td>Beesley, Mr. Lawrence</td>\n",
       "      <td>male</td>\n",
       "      <td>CA. 2343</td>\n",
       "      <td>B96 B98</td>\n",
       "      <td>S</td>\n",
       "    </tr>\n",
       "    <tr>\n",
       "      <th>freq</th>\n",
       "      <td>1</td>\n",
       "      <td>577</td>\n",
       "      <td>7</td>\n",
       "      <td>4</td>\n",
       "      <td>644</td>\n",
       "    </tr>\n",
       "  </tbody>\n",
       "</table>\n",
       "</div>"
      ],
      "text/plain": [
       "                         Name   Sex    Ticket    Cabin Embarked\n",
       "count                     891   891       891      204      889\n",
       "unique                    891     2       681      147        3\n",
       "top     Beesley, Mr. Lawrence  male  CA. 2343  B96 B98        S\n",
       "freq                        1   577         7        4      644"
      ]
     },
     "execution_count": 6,
     "metadata": {},
     "output_type": "execute_result"
    }
   ],
   "source": [
    "train_df.describe(include = ['O'])"
   ]
  },
  {
   "cell_type": "markdown",
   "metadata": {},
   "source": [
    "* As surmised before, all 891 passengers' names are unique.\n",
    "* 577/891 or around 65% of the passengers are male.\n",
    "* Ticket numbers have 210 duplicate values.\n",
    "* Most of the passengers have embarked on the voyage from the city denoted by `S`.\n",
    "* Out of 204 cabin values, only 147 are unique-indicating the fact that several people shared cabins."
   ]
  },
  {
   "cell_type": "markdown",
   "metadata": {},
   "source": [
    "<h1 style = \"text-align:center; padding: 20px;\">Making the useful corrections</h1>\n",
    "\n",
    "Using the above observations, we can do the following from the get-go:\n",
    "* Drop the `Name` and `PassengerId` columns since they're not features.\n",
    "* Drop `Cabin` because of its high null value count.\n",
    "* Drop `Ticket` because of its low unique value count.\n",
    "\n",
    "One thing to note here, that the default parameter for `axis` in `df.drop()` command is 0, which means it looks for the specified values to be dropped in the rows. It's easy to forget about this and spend 20 minutes debugging what went wrong in the code. *Always sepcify axis = 1 while dropping rows form a dataframe.*"
   ]
  },
  {
   "cell_type": "code",
   "execution_count": 7,
   "metadata": {},
   "outputs": [
    {
     "name": "stdout",
     "output_type": "stream",
     "text": [
      "Column Names: ['Age' 'Embarked' 'Fare' 'Parch' 'Pclass' 'Sex' 'SibSp' 'Survived']\n"
     ]
    }
   ],
   "source": [
    "to_drop = ['Name', 'PassengerId', 'Cabin', 'Ticket']\n",
    "train_df.drop(to_drop, axis = 1, inplace = True)\n",
    "test_df.drop(to_drop, axis = 1, inplace = True)\n",
    "print(\"Column Names: {}\".format(np.unique(train_df.columns.values.tolist() + test_df.columns.values.tolist())))"
   ]
  },
  {
   "cell_type": "markdown",
   "metadata": {},
   "source": [
    "Now that that's taken care of, we have only one thing to worry about, that is the `Age` column which will be dealt with shortly.\n",
    "\n",
    "<h1 style = \"padding: 20px; text-align: center;\">Correlation among and relevance of features</h1>\n",
    "\n",
    "# 1. Pivoting individual features.\n",
    "In this step, we \"pivot\" each feature with it's survival rate and print the result. The goal here is to look for patterns and answer natural questions of the form : *Did the Gender/Age/class of the passenger have any relation with their survival?\"\n"
   ]
  },
  {
   "cell_type": "code",
   "execution_count": 8,
   "metadata": {},
   "outputs": [
    {
     "name": "stdout",
     "output_type": "stream",
     "text": [
      "Feature: Age\n",
      "\n",
      "       Age  Survived\n",
      "0    0.42       1.0\n",
      "9    5.00       1.0\n",
      "79  63.00       1.0\n",
      "68  53.00       1.0\n",
      "1    0.67       1.0\n",
      "..    ...       ...\n",
      "37  28.50       0.0\n",
      "49  36.50       0.0\n",
      "46  34.50       0.0\n",
      "26  20.50       0.0\n",
      "30  23.50       0.0\n",
      "\n",
      "[88 rows x 2 columns]\n",
      "Feature: Embarked\n",
      "\n",
      "   Embarked  Survived\n",
      "0        C  0.553571\n",
      "1        Q  0.389610\n",
      "2        S  0.336957\n",
      "Feature: Fare\n",
      "\n",
      "          Fare  Survived\n",
      "247  512.3292       1.0\n",
      "196   57.9792       1.0\n",
      "89    13.8583       1.0\n",
      "88    13.7917       1.0\n",
      "86    13.4167       1.0\n",
      "..        ...       ...\n",
      "103   15.5500       0.0\n",
      "180   47.1000       0.0\n",
      "179   46.9000       0.0\n",
      "178   42.4000       0.0\n",
      "124   21.0750       0.0\n",
      "\n",
      "[248 rows x 2 columns]\n",
      "Feature: Parch\n",
      "\n",
      "    Parch  Survived\n",
      "3      3  0.600000\n",
      "1      1  0.550847\n",
      "2      2  0.500000\n",
      "0      0  0.343658\n",
      "5      5  0.200000\n",
      "4      4  0.000000\n",
      "6      6  0.000000\n",
      "Feature: Pclass\n",
      "\n",
      "    Pclass  Survived\n",
      "0       1  0.629630\n",
      "1       2  0.472826\n",
      "2       3  0.242363\n",
      "Feature: Sex\n",
      "\n",
      "       Sex  Survived\n",
      "0  female  0.742038\n",
      "1    male  0.188908\n",
      "Feature: SibSp\n",
      "\n",
      "    SibSp  Survived\n",
      "1      1  0.535885\n",
      "2      2  0.464286\n",
      "0      0  0.345395\n",
      "3      3  0.250000\n",
      "4      4  0.166667\n",
      "5      5  0.000000\n",
      "6      8  0.000000\n"
     ]
    }
   ],
   "source": [
    "pivots = ['Age', 'Embarked', 'Fare', 'Parch', 'Pclass', 'Sex', 'SibSp']\n",
    "for pivot in pivots:\n",
    "    print(\"Feature: {}\\n\\n\".format(pivot), train_df[[pivot, 'Survived']].groupby([pivot], as_index=False).mean().sort_values(by='Survived', ascending=False))"
   ]
  },
  {
   "cell_type": "markdown",
   "metadata": {},
   "source": [
    "* The gender of the passengers have a very strong correlation with survival rate. This feature is thus crucial for prediction.\n",
    "* SibSp and Parch values have almost no correlation with survival above a certain value. Thus we can combine these features to form a better predictor.\n",
    "* Passenger's class also has a high correlation with survival rate.\n",
    "\n",
    "# 2. Visualizing relevant feature(s).\n",
    "\n",
    "We can observe some relationships within and among features by visually depicting their survival rates next to each other using a graph.\n",
    "\n",
    "Lets's begin by plotting the different `Pclass` categories next to each other based on their corresponding survival rates."
   ]
  },
  {
   "cell_type": "code",
   "execution_count": 9,
   "metadata": {},
   "outputs": [
    {
     "data": {
      "image/png": "[encoded data removed]",
      "text/plain": [
       "<Figure size 791.36x734.4 with 6 Axes>"
      ]
     },
     "metadata": {
      "needs_background": "light"
     },
     "output_type": "display_data"
    }
   ],
   "source": [
    "grid = sns.FacetGrid(train_df, col='Survived', row='Pclass', height=3.4, aspect=1.6)\n",
    "grid.map(plt.hist, 'Age', alpha=.6, bins=10)\n",
    "grid.add_legend();"
   ]
  },
  {
   "cell_type": "markdown",
   "metadata": {},
   "source": [
    "This is an interesting result and depicts the need of understanding the data well.\n",
    "\n",
    "As we see here, the passengers of class 3 had a significantly lesser surival rate in comparison to those who were travelling in class 1.\n",
    "Although we might have guessed this intuitively, we can now evidently conclude(in a non-statistical sense) that higher class travelling passengers did have a higher rate of survival."
   ]
  },
  {
   "cell_type": "code",
   "execution_count": 10,
   "metadata": {},
   "outputs": [
    {
     "name": "stdout",
     "output_type": "stream",
     "text": [
      "Mean Age of Passengers: 29.69911764705882\n"
     ]
    },
    {
     "data": {
      "text/plain": [
       "<seaborn.axisgrid.FacetGrid at 0x22cc2b25988>"
      ]
     },
     "execution_count": 10,
     "metadata": {},
     "output_type": "execute_result"
    },
    {
     "data": {
      "image/png": "[encoded data removed]",
      "text/plain": [
       "<Figure size 783.36x244.8 with 2 Axes>"
      ]
     },
     "metadata": {
      "needs_background": "light"
     },
     "output_type": "display_data"
    }
   ],
   "source": [
    "grid = sns.FacetGrid(train_df, col = 'Survived', height = 3.4, aspect = 1.6)\n",
    "print(\"Mean Age of Passengers: {}\".format(train_df['Age'].mean()))\n",
    "grid.map(plt.hist, 'Age', alpha = 0.6,  bins = 20)"
   ]
  },
  {
   "cell_type": "markdown",
   "metadata": {},
   "source": [
    "* Infants, and children (age <= 5) survived in the largest amount.\n",
    "* Most deaths are observed in adults of 15-30 years of age.\n",
    "* The only person above the age of 80 survived as well.\n",
    "\n",
    "Thus, we should also include age in our model features and find a way to fill in the gaps for missing features.\n",
    "\n",
    "The mean age of the passengers is observed to be 29.69, which can be used to substitute for the `NaN` values."
   ]
  },
  {
   "cell_type": "code",
   "execution_count": null,
   "metadata": {},
   "outputs": [],
   "source": []
  }
 ],
 "metadata": {
  "kernelspec": {
   "display_name": "Python 3",
   "language": "python",
   "name": "python3"
  },
  "language_info": {
   "codemirror_mode": {
    "name": "ipython",
    "version": 3
   },
   "file_extension": ".py",
   "mimetype": "text/x-python",
   "name": "python",
   "nbconvert_exporter": "python",
   "pygments_lexer": "ipython3",
   "version": "3.7.5"
  }
 },
 "nbformat": 4,
 "nbformat_minor": 2
}
